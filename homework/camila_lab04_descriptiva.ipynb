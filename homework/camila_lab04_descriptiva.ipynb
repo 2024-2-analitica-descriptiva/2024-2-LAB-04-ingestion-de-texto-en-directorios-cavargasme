{
 "cells": [
  {
   "cell_type": "code",
   "execution_count": null,
   "metadata": {},
   "outputs": [],
   "source": [
    "import zipfile\n",
    "import os\n",
    "import pandas as pd\n",
    "import glob\n",
    "\n",
    "with zipfile.ZipFile('files/input.zip', 'r') as zip_ref:\n",
    "    zip_ref.extractall('files')\n",
    "\n",
    "os.makedirs('files/output', exist_ok=True)\n",
    "\n",
    "\n",
    "def generator(path_input, name_ouput):\n",
    "    data = [['phrase', 'target']]\n",
    "    \n",
    "    target = 'negative'\n",
    "    for filepath in glob.glob(f\"{path_input}/{target}/*\"):\n",
    "        with open(filepath, 'r', encoding='utf-8') as file:\n",
    "            phrase = file.read().strip()\n",
    "            data.append([phrase, target])\n",
    "\n",
    "    target = 'neutral'\n",
    "    for filepath in glob.glob(f\"{path_input}/{target}/*\"):\n",
    "        with open(filepath, 'r', encoding='utf-8') as file:\n",
    "            phrase = file.read().strip()\n",
    "            data.append([phrase, target])\n",
    "\n",
    "    target = 'positive'\n",
    "    for filepath in glob.glob(f\"{path_input}/{target}/*\"):\n",
    "        with open(filepath, 'r', encoding='utf-8') as file:\n",
    "            phrase = file.read().strip()\n",
    "            data.append([phrase, target])\n",
    "    \n",
    "    data = pd.DataFrame(data[1:], columns = data[0])\n",
    "    data.to_csv('files/output/' + name_ouput, index=False)\n",
    "    \n",
    "    return pd.DataFrame(data)\n",
    "\n",
    "generator(\"files/input/test\", \"test_dataset.csv\")\n",
    "generator(\"files/input/train\", \"train_dataset.csv\")\n",
    "\n"
   ]
  }
 ],
 "metadata": {
  "kernelspec": {
   "display_name": "Python 3",
   "language": "python",
   "name": "python3"
  },
  "language_info": {
   "name": "python",
   "version": "3.10.11"
  }
 },
 "nbformat": 4,
 "nbformat_minor": 2
}
